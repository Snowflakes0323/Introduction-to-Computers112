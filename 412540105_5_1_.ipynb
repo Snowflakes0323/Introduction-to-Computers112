{
  "nbformat": 4,
  "nbformat_minor": 0,
  "metadata": {
    "colab": {
      "provenance": [],
      "authorship_tag": "ABX9TyNuEq1dQWYo5zR58HQDqnXk",
      "include_colab_link": true
    },
    "kernelspec": {
      "name": "python3",
      "display_name": "Python 3"
    },
    "language_info": {
      "name": "python"
    }
  },
  "cells": [
    {
      "cell_type": "markdown",
      "metadata": {
        "id": "view-in-github",
        "colab_type": "text"
      },
      "source": [
        "<a href=\"https://colab.research.google.com/github/Snowflakes0323/Introduction-to-Computers112/blob/main/412540105_5_1_.ipynb\" target=\"_parent\"><img src=\"https://colab.research.google.com/assets/colab-badge.svg\" alt=\"Open In Colab\"/></a>"
      ]
    },
    {
      "cell_type": "code",
      "execution_count": 1,
      "metadata": {
        "colab": {
          "base_uri": "https://localhost:8080/"
        },
        "id": "zOX3BAqFK4Is",
        "outputId": "ecb2510f-3478-48c8-b732-c4200d788cc3"
      },
      "outputs": [
        {
          "output_type": "stream",
          "name": "stdout",
          "text": [
            "0514\n"
          ]
        }
      ],
      "source": [
        "print(\"0514\")"
      ]
    },
    {
      "cell_type": "code",
      "source": [
        "score=int(input(\"請輸入分數\"))\n",
        "if(score>=60):\n",
        "  print(\"及格\")"
      ],
      "metadata": {
        "colab": {
          "base_uri": "https://localhost:8080/"
        },
        "id": "sRSFDXeqhyAB",
        "outputId": "69a18b3b-8f58-44d7-9eaa-5c2f7379ac67"
      },
      "execution_count": 15,
      "outputs": [
        {
          "output_type": "stream",
          "name": "stdout",
          "text": [
            "請輸入分數70\n",
            "及格\n"
          ]
        }
      ]
    },
    {
      "cell_type": "code",
      "source": [
        "數學=60\n",
        "英文=50\n",
        "if 數學>英文:\n",
        "\n",
        "  print(\"數學比較高\")\n",
        "else:\n",
        "  print(\"英文比較高\")"
      ],
      "metadata": {
        "colab": {
          "base_uri": "https://localhost:8080/"
        },
        "id": "Wpudi3MUkhkM",
        "outputId": "83044c1f-63e5-44e3-afb8-f8ffebc19174"
      },
      "execution_count": 8,
      "outputs": [
        {
          "output_type": "stream",
          "name": "stdout",
          "text": [
            "數學比較高\n"
          ]
        }
      ]
    },
    {
      "cell_type": "code",
      "source": [
        "數學=60\n",
        "英文=70\n",
        "if 數學>英文:\n",
        "  print(\"數學比較高\")\n",
        "else:\n",
        "  print(\"英文比較高\")"
      ],
      "metadata": {
        "colab": {
          "base_uri": "https://localhost:8080/"
        },
        "id": "P1iTVEt7lC4h",
        "outputId": "4c407075-d6d0-4347-adc1-50737d794551"
      },
      "execution_count": 9,
      "outputs": [
        {
          "output_type": "stream",
          "name": "stdout",
          "text": [
            "英文比較高\n"
          ]
        }
      ]
    },
    {
      "cell_type": "code",
      "source": [
        "#輸入密碼\n",
        "password=int(input(\"請輸入密碼\"))\n",
        "if(password==1234):\n",
        "  print(\"歡迎光臨!\")"
      ],
      "metadata": {
        "colab": {
          "base_uri": "https://localhost:8080/"
        },
        "id": "I9qitOW9ldEg",
        "outputId": "3dff42e0-7d15-47cc-b706-858a17783ff2"
      },
      "execution_count": 18,
      "outputs": [
        {
          "output_type": "stream",
          "name": "stdout",
          "text": [
            "請輸入密碼1234\n",
            "歡迎光臨!\n"
          ]
        }
      ]
    },
    {
      "cell_type": "code",
      "source": [
        "rain=input(\"今天會下雨嗎?\")\n",
        "if(rain==\"Y\"or rain==\"y\"):\n",
        "  print(\"出門記得帶傘!\")"
      ],
      "metadata": {
        "colab": {
          "base_uri": "https://localhost:8080/"
        },
        "id": "esDsF8Ykoh7F",
        "outputId": "3c29d796-71af-4870-f6cc-855c8fb38148"
      },
      "execution_count": 24,
      "outputs": [
        {
          "output_type": "stream",
          "name": "stdout",
          "text": [
            "今天會下雨嗎?y\n",
            "出門記得帶傘!\n"
          ]
        }
      ]
    },
    {
      "cell_type": "code",
      "source": [
        "password=int(input(\"請輸入密碼\"))\n",
        "if(password==1234):\n",
        "  print(\"歡迎光臨!\")\n",
        "else:\n",
        "  print(\"密碼錯誤!\")"
      ],
      "metadata": {
        "colab": {
          "base_uri": "https://localhost:8080/"
        },
        "id": "KbJvvKpDp2Z-",
        "outputId": "80fc7987-3fe4-4c81-fdf8-00a24c4aeddf"
      },
      "execution_count": 25,
      "outputs": [
        {
          "output_type": "stream",
          "name": "stdout",
          "text": [
            "請輸入密碼5678\n",
            "密碼錯誤!\n"
          ]
        }
      ]
    },
    {
      "cell_type": "code",
      "source": [
        "rain=input(\"今天會下雨嗎?\")\n",
        "if(rain==\"Y\"or rain==\"y\"):\n",
        "  print(\"出門記得帶傘!\")\n",
        "else:\n",
        "  print(\"不用帶傘\")"
      ],
      "metadata": {
        "colab": {
          "base_uri": "https://localhost:8080/"
        },
        "id": "UQcVgw7uqJdG",
        "outputId": "c527e196-dc2f-4e2b-cb33-90635aa3ed3f"
      },
      "execution_count": 26,
      "outputs": [
        {
          "output_type": "stream",
          "name": "stdout",
          "text": [
            "今天會下雨嗎?n\n",
            "不用帶傘\n"
          ]
        }
      ]
    },
    {
      "cell_type": "code",
      "source": [
        "number=int(input(\"請輸入正整數\"))\n",
        "if (number % 2 == 0):\n",
        "  print(f\"{number}為偶數!\")\n",
        "else:\n",
        "  print(f\"{number}為奇數!\")"
      ],
      "metadata": {
        "colab": {
          "base_uri": "https://localhost:8080/"
        },
        "id": "4pTV5ljAqZsX",
        "outputId": "af57ed62-2150-4472-8928-f3a7096e697d"
      },
      "execution_count": 35,
      "outputs": [
        {
          "output_type": "stream",
          "name": "stdout",
          "text": [
            "請輸入正整數51\n",
            "51為奇數!\n"
          ]
        }
      ]
    }
  ]
}