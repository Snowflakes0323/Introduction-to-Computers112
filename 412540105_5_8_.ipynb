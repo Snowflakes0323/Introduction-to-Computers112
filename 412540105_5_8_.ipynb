{
  "nbformat": 4,
  "nbformat_minor": 0,
  "metadata": {
    "colab": {
      "provenance": [],
      "authorship_tag": "ABX9TyOHBucxoi9alRd+o1HWZRS4",
      "include_colab_link": true
    },
    "kernelspec": {
      "name": "python3",
      "display_name": "Python 3"
    },
    "language_info": {
      "name": "python"
    }
  },
  "cells": [
    {
      "cell_type": "markdown",
      "metadata": {
        "id": "view-in-github",
        "colab_type": "text"
      },
      "source": [
        "<a href=\"https://colab.research.google.com/github/Snowflakes0323/Introduction-to-Computers112/blob/main/412540105_5_8_.ipynb\" target=\"_parent\"><img src=\"https://colab.research.google.com/assets/colab-badge.svg\" alt=\"Open In Colab\"/></a>"
      ]
    },
    {
      "cell_type": "code",
      "execution_count": 24,
      "metadata": {
        "colab": {
          "base_uri": "https://localhost:8080/"
        },
        "id": "j7zAc_RimGMo",
        "outputId": "284d0eeb-5fce-4908-81d7-d10b39eebc34"
      },
      "outputs": [
        {
          "output_type": "stream",
          "name": "stdout",
          "text": [
            "33.5\n",
            "體溫異常，請重新量測!\n"
          ]
        }
      ],
      "source": [
        "t=float(input())\n",
        "if (t>=37.5):\n",
        "  print(\"體溫過高\")\n",
        "elif (37<=t<=37.4):\n",
        "  print(\"體溫略高\")\n",
        "elif 34<=t<=36.9:\n",
        "  print(\"體溫正常\")\n",
        "else:\n",
        "  print(\"體溫異常，請重新量測!\")"
      ]
    },
    {
      "cell_type": "code",
      "source": [
        "g=int(input())\n",
        "if g>=90:\n",
        "  print(\"A\")\n",
        "elif 80<=g<=89:\n",
        "  print(\"B\")\n",
        "elif 70<=g<=79:\n",
        "  print(\"C\")\n",
        "elif 60<=g<=69:\n",
        "  print(\"D\")\n",
        "else:\n",
        "  print(\"E\")"
      ],
      "metadata": {
        "colab": {
          "base_uri": "https://localhost:8080/"
        },
        "id": "Jgt6bka3p7ji",
        "outputId": "6b7931de-cdef-40a7-f026-78e8f5774b45"
      },
      "execution_count": 23,
      "outputs": [
        {
          "output_type": "stream",
          "name": "stdout",
          "text": [
            "80\n",
            "B\n"
          ]
        }
      ]
    },
    {
      "cell_type": "code",
      "source": [
        "m=int(input())\n",
        "if m in[3,4,5]:\n",
        "  print(\"春天\")\n",
        "elif m in[6,7,8]:\n",
        "  print(\"夏天\")\n",
        "elif m in[9,10,11]:\n",
        "  print(\"秋天\")\n",
        "else:\n",
        "  print(\"冬天\")"
      ],
      "metadata": {
        "colab": {
          "base_uri": "https://localhost:8080/"
        },
        "id": "wG0CaeAxq2d-",
        "outputId": "dc4dbb31-6c19-46aa-9ae9-faeced829a7c"
      },
      "execution_count": 30,
      "outputs": [
        {
          "output_type": "stream",
          "name": "stdout",
          "text": [
            "1\n",
            "冬天\n"
          ]
        }
      ]
    }
  ]
}